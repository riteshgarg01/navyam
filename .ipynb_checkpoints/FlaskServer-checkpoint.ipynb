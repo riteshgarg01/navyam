{
 "cells": [
  {
   "cell_type": "code",
   "execution_count": 1,
   "id": "0dae88c6-a785-40a8-be9a-243ee64b66c3",
   "metadata": {},
   "outputs": [
    {
     "name": "stdout",
     "output_type": "stream",
     "text": [
      " * Serving Flask app '__main__'\n",
      " * Debug mode: on\n"
     ]
    },
    {
     "name": "stderr",
     "output_type": "stream",
     "text": [
      "WARNING: This is a development server. Do not use it in a production deployment. Use a production WSGI server instead.\n",
      " * Running on http://127.0.0.1:5000\n",
      "Press CTRL+C to quit\n",
      " * Restarting with stat\n"
     ]
    },
    {
     "ename": "SystemExit",
     "evalue": "1",
     "output_type": "error",
     "traceback": [
      "An exception has occurred, use %tb to see the full traceback.\n",
      "\u001b[1;31mSystemExit\u001b[0m\u001b[1;31m:\u001b[0m 1\n"
     ]
    },
    {
     "name": "stderr",
     "output_type": "stream",
     "text": [
      "C:\\Users\\arohi\\AppData\\Local\\Programs\\Python\\Python312\\Lib\\site-packages\\IPython\\core\\interactiveshell.py:3585: UserWarning: To exit: use 'exit', 'quit', or Ctrl-D.\n",
      "  warn(\"To exit: use 'exit', 'quit', or Ctrl-D.\", stacklevel=1)\n"
     ]
    }
   ],
   "source": [
    "from flask import Flask, request, jsonify\n",
    "import requests\n",
    "\n",
    "app = Flask(__name__)\n",
    "\n",
    "# Gupshup Sandbox API details\n",
    "GUPSHUP_URL = 'https://api.gupshup.io/sm/api/v1/msg'\n",
    "GUPSHUP_API_KEY = '2dvow1vgfzmtyyoekitrmeu0vtco0m4a'\n",
    "\n",
    "@app.route('/webhook', methods=['POST'])\n",
    "def whatsapp_bot():\n",
    "    incoming_data = request.json\n",
    "    message = incoming_data.get('message', {}).get('text', '').lower()\n",
    "\n",
    "    if 'hello' in message:\n",
    "        response_text = \"Hi! How can I assist you today?\"\n",
    "    elif 'bye' in message:\n",
    "        response_text = \"Goodbye! Have a great day!\"\n",
    "    else:\n",
    "        response_text = \"Sorry, I didn't understand that.\"\n",
    "\n",
    "    send_message(response_text, incoming_data['sender']['phone'])\n",
    "\n",
    "    return jsonify({\"status\": \"success\"}), 200\n",
    "\n",
    "def send_message(message, to_number):\n",
    "    headers = {\n",
    "        'Content-Type': 'application/x-www-form-urlencoded',\n",
    "        'apikey': GUPSHUP_API_KEY\n",
    "    }\n",
    "    payload = {\n",
    "        'channel': 'whatsapp',\n",
    "        'source': '917834811114',\n",
    "        'destination': to_number,\n",
    "        'message': message\n",
    "    }\n",
    "    requests.post(GUPSHUP_URL, headers=headers, data=payload)\n",
    "\n",
    "if __name__ == '__main__':\n",
    "    app.run(debug=True)\n"
   ]
  },
  {
   "cell_type": "code",
   "execution_count": null,
   "id": "970c4f65-0fc1-4486-9c29-0c61fbe53e07",
   "metadata": {},
   "outputs": [],
   "source": []
  }
 ],
 "metadata": {
  "kernelspec": {
   "display_name": "Python 3 (ipykernel)",
   "language": "python",
   "name": "python3"
  },
  "language_info": {
   "codemirror_mode": {
    "name": "ipython",
    "version": 3
   },
   "file_extension": ".py",
   "mimetype": "text/x-python",
   "name": "python",
   "nbconvert_exporter": "python",
   "pygments_lexer": "ipython3",
   "version": "3.12.6"
  }
 },
 "nbformat": 4,
 "nbformat_minor": 5
}
